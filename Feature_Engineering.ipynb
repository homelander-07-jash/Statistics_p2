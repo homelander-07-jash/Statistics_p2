{
  "nbformat": 4,
  "nbformat_minor": 0,
  "metadata": {
    "colab": {
      "provenance": []
    },
    "kernelspec": {
      "name": "python3",
      "display_name": "Python 3"
    },
    "language_info": {
      "name": "python"
    }
  },
  "cells": [
    {
      "cell_type": "markdown",
      "source": [
        "# Feature Engineering\n",
        "\n",
        "1.  What is a parameter?\n",
        "\n",
        "- A parameter is a value that defines a model and is learned during training (e.g., weights in linear regression). It contrasts with hyperparameters, which are set before training (e.g., learning rate).\n",
        "\n",
        "2.  What is correlation?\n",
        "\n",
        "- Correlation measures the linear relationship between two variables. It ranges from -1 to 1:\n",
        "\n",
        "- 1: perfect positive correlation\n",
        "\n",
        "- 0: no correlation\n",
        "\n",
        "- -1: perfect negative correlation\n",
        "\n",
        "\n",
        " 2. What does negative correlation mean?\n",
        "\n",
        " - When one variable increases and the other decreases. E.g., more time spent watching TV may negatively correlate with test scores.\n",
        "\n",
        " 3. Define Machine Learning. What are the main components in Machine Learning?\n",
        "\n",
        " - Machine Learning (ML) is a subset of AI that allows systems to learn from data and improve over time without explicit programming.\n",
        "\n",
        "Main components:\n",
        "\n",
        "- Data\n",
        "\n",
        "- Model (algorithm)\n",
        "\n",
        "- Loss function\n",
        "\n",
        "- Optimizer\n",
        "\n",
        "- Training process\n",
        "\n",
        "\n",
        "4. How does loss value help in determining whether the model is good or not?\n",
        "\n",
        "- The loss value quantifies the difference between the model's predictions and actual values. Lower loss indicates better model performance.\n",
        "\n",
        "5. What are continuous and categorical variables?\n",
        "\n",
        "- Continuous: Numeric with infinite possible values (e.g., height, weight).\n",
        "\n",
        "- Categorical: Represents categories or labels (e.g., gender, color).\n",
        "\n",
        "6. How do we handle categorical variables in Machine Learning? What are the commont echniques?\n",
        "\n",
        "- Common techniques:\n",
        "\n",
        "- Label Encoding (ordinal)\n",
        "\n",
        "- One-Hot Encoding (nominal)\n",
        "\n",
        "- Binary Encoding, Target Encoding (advanced)\n",
        "\n",
        "7. What do you mean by training and testing a dataset?\n",
        "\n",
        "- Training set: Used to train the model.\n",
        "\n",
        "- Testing set: Used to evaluate model performance on unseen data.\n",
        "\n",
        "8.  What is sklearn.preprocessing?\n",
        "\n",
        "- A module in Scikit-learn for preprocessing data, including:\n",
        "\n",
        "- Scaling (StandardScaler, MinMaxScaler)\n",
        "\n",
        "- Encoding (LabelEncoder, OneHotEncoder)\n",
        "\n",
        "- Imputation (SimpleImputer)\n",
        "\n",
        "9. What is a Test set?\n",
        "\n",
        "- A test set is a portion of the data reserved to evaluate the final performance of a trained model.\n",
        "\n",
        "10.  How do we split data for model fitting (training and testing) in Python?\n",
        " How do you approach a Machine Learning problem?\n",
        "\n",
        "- 1. Understand the problem and collect data.\n",
        "\n",
        "2. Perform EDA.\n",
        "\n",
        "3. Preprocess data.\n",
        "\n",
        "4. Split data.\n",
        "\n",
        "5. Train and validate models.\n",
        "\n",
        "6. Fine-tune hyperparameters.\n",
        "\n",
        "7. Evaluate on test data.\n"
      ],
      "metadata": {
        "id": "BewDVUPQpv8q"
      }
    },
    {
      "cell_type": "code",
      "source": [
        "\"\"\"\n",
        "from sklearn.model_selection import train_test_split\n",
        "X_train, X_test, y_train, y_test = train_test_split(X, y, test_size=0.2)\n",
        "\"\"\""
      ],
      "metadata": {
        "colab": {
          "base_uri": "https://localhost:8080/",
          "height": 36
        },
        "id": "7rSdJZMDuzP0",
        "outputId": "4d21b3a1-39d5-4f05-a4c7-d6c6fe725bc9"
      },
      "execution_count": null,
      "outputs": [
        {
          "output_type": "execute_result",
          "data": {
            "text/plain": [
              "'\\nfrom sklearn.model_selection import train_test_split\\nX_train, X_test, y_train, y_test = train_test_split(X, y, test_size=0.2)\\n'"
            ],
            "application/vnd.google.colaboratory.intrinsic+json": {
              "type": "string"
            }
          },
          "metadata": {},
          "execution_count": 2
        }
      ]
    },
    {
      "cell_type": "markdown",
      "source": [
        "11.  Why do we have to perform EDA before fitting a model to the data?\n",
        "\n",
        "- EDA helps understand data distribution, detect outliers, identify missing values, and reveal relationships. It ensures appropriate preprocessing and model selection.\n",
        "\n",
        "12.  What is correlation?\n",
        "\n",
        "- Correlation measures the linear relationship between two variables. It ranges from -1 to 1:\n",
        "\n",
        "1: perfect positive correlation\n",
        "\n",
        "0: no correlation\n",
        "\n",
        "-1: perfect negative correlation\n",
        "\n",
        "13. What does negative correlation mean?\n",
        "\n",
        "- When one variable increases and the other decreases. E.g., more time spent watching TV may negatively correlate with test scores.\n",
        "\n",
        "14. How can you find correlation between variables in Python?\n",
        "\n"
      ],
      "metadata": {
        "id": "3kdDyOehvMiV"
      }
    },
    {
      "cell_type": "code",
      "source": [
        "\"\"\"\n",
        "import seaborn as sns\n",
        "sns.heatmap(df.corr(), annot=True)\n",
        "\n",
        "\"\"\""
      ],
      "metadata": {
        "colab": {
          "base_uri": "https://localhost:8080/",
          "height": 36
        },
        "id": "UXg6a-MowHGB",
        "outputId": "94bcc82e-1c2e-4133-efe0-814ab25ec1c9"
      },
      "execution_count": null,
      "outputs": [
        {
          "output_type": "execute_result",
          "data": {
            "text/plain": [
              "'\\nimport seaborn as sns\\nsns.heatmap(df.corr(), annot=True)\\n\\n'"
            ],
            "application/vnd.google.colaboratory.intrinsic+json": {
              "type": "string"
            }
          },
          "metadata": {},
          "execution_count": 6
        }
      ]
    },
    {
      "cell_type": "markdown",
      "source": [
        "15.  What is causation? Explain difference between correlation and causation with an example.\n",
        "\n",
        "- Causation: One variable directly affects another.\n",
        "\n",
        "Correlation: Ice cream sales and drowning rates increase together → correlated.\n",
        "\n",
        "Causation: More study time leads to better grades → causal.\n",
        "\n",
        "16. What is an Optimizer? What are different types of optimizers? Explain each with an example.\n",
        "\n",
        "- An optimizer updates model parameters to minimize the loss function.\n",
        "\n",
        "Examples:\n",
        "\n",
        "- SGD: Stochastic Gradient Descent (simple and fast).\n",
        "\n",
        "- Adam: Adaptive Moment Estimation (popular, adaptive learning rate).\n",
        "\n",
        "- RMSProp: Uses moving average of squared gradients."
      ],
      "metadata": {
        "id": "cHyk8RSFwkwh"
      }
    },
    {
      "cell_type": "code",
      "source": [
        "\"\"\"\n",
        "from tensorflow.keras.optimizers import Adam\n",
        "model.compile(optimizer=Adam(), loss='mse')\n",
        "\"\"\""
      ],
      "metadata": {
        "colab": {
          "base_uri": "https://localhost:8080/",
          "height": 36
        },
        "id": "6PIAk9Mueq3F",
        "outputId": "d2d1682b-32d6-40bf-af1f-c885718d8e26"
      },
      "execution_count": 2,
      "outputs": [
        {
          "output_type": "execute_result",
          "data": {
            "text/plain": [
              "\"\\nfrom tensorflow.keras.optimizers import Adam\\nmodel.compile(optimizer=Adam(), loss='mse')\\n\""
            ],
            "application/vnd.google.colaboratory.intrinsic+json": {
              "type": "string"
            }
          },
          "metadata": {},
          "execution_count": 2
        }
      ]
    },
    {
      "cell_type": "markdown",
      "source": [
        "17.  What is sklearn.linear_model ?\n",
        "\n",
        "- A Scikit-learn module for linear models like:\n",
        "\n",
        "- LinearRegression\n",
        "\n",
        "- LogisticRegression\n",
        "\n",
        "- Ridge, Lasso, etc.\n",
        "\n",
        "18.  What does model.fit() do? What arguments must be given?\n"
      ],
      "metadata": {
        "id": "CeALgqC-e9qQ"
      }
    },
    {
      "cell_type": "code",
      "source": [
        "\"\"\"\n",
        "model.fit(X_train, y_train)\n",
        "\"\"\""
      ],
      "metadata": {
        "colab": {
          "base_uri": "https://localhost:8080/",
          "height": 36
        },
        "id": "FXx76xJXfW08",
        "outputId": "5ee1291e-d963-4daf-b990-63e00eaf383a"
      },
      "execution_count": 4,
      "outputs": [
        {
          "output_type": "execute_result",
          "data": {
            "text/plain": [
              "'\\nmodel.fit(X_train, y_train)\\n'"
            ],
            "application/vnd.google.colaboratory.intrinsic+json": {
              "type": "string"
            }
          },
          "metadata": {},
          "execution_count": 4
        }
      ]
    },
    {
      "cell_type": "code",
      "source": [
        "# 19. What does model.predict() do? What arguments must be given?\n",
        "\"\"\"\n",
        "model.predict(X_test)\n",
        "\"\"\""
      ],
      "metadata": {
        "colab": {
          "base_uri": "https://localhost:8080/",
          "height": 36
        },
        "id": "5CZlZAlRfgBK",
        "outputId": "337b3f05-d3ed-454e-a7a5-5f76bcddbfc1"
      },
      "execution_count": 6,
      "outputs": [
        {
          "output_type": "execute_result",
          "data": {
            "text/plain": [
              "'\\nmodel.predict(X_test)\\n'"
            ],
            "application/vnd.google.colaboratory.intrinsic+json": {
              "type": "string"
            }
          },
          "metadata": {},
          "execution_count": 6
        }
      ]
    },
    {
      "cell_type": "markdown",
      "source": [
        "20. What are continuous and categorical variables?\n",
        "\n",
        "- Continuous: Numeric with infinite possible values (e.g., height, weight).\n",
        "\n",
        "- Categorical: Represents categories or labels (e.g., gender, color).\n",
        "\n",
        "21. What is feature scaling? How does it help in Machine Learning?\n",
        "\n",
        "- It standardizes data to a common scale. Helps models converge faster and avoid bias from large-scale features.\n",
        "\n",
        "22.  How do we perform scaling in Python?"
      ],
      "metadata": {
        "id": "Cu419ZF3f4N7"
      }
    },
    {
      "cell_type": "code",
      "source": [
        "\"\"\"\n",
        "from sklearn.preprocessing import StandardScaler\n",
        "scaler = StandardScaler()\n",
        "X_scaled = scaler.fit_transform(X)\n",
        "\"\"\""
      ],
      "metadata": {
        "colab": {
          "base_uri": "https://localhost:8080/",
          "height": 36
        },
        "id": "KeHOpB1FgitI",
        "outputId": "f3dd36f4-9ec8-492a-a37b-b2d6c92b4cc4"
      },
      "execution_count": 8,
      "outputs": [
        {
          "output_type": "execute_result",
          "data": {
            "text/plain": [
              "'\\nfrom sklearn.preprocessing import StandardScaler\\nscaler = StandardScaler()\\nX_scaled = scaler.fit_transform(X)\\n'"
            ],
            "application/vnd.google.colaboratory.intrinsic+json": {
              "type": "string"
            }
          },
          "metadata": {},
          "execution_count": 8
        }
      ]
    },
    {
      "cell_type": "markdown",
      "source": [
        "23. What is sklearn.preprocessing?\n",
        "\n",
        "- A module in Scikit-learn for preprocessing data, including:\n",
        "\n",
        "- Scaling (StandardScaler, MinMaxScaler)\n",
        "\n",
        "- Encoding (LabelEncoder, OneHotEncoder)\n",
        "\n",
        "- Imputation (SimpleImputer)\n"
      ],
      "metadata": {
        "id": "U0h644chgyLf"
      }
    },
    {
      "cell_type": "code",
      "source": [
        "# 24. How do we split data for model fitting (training and testing) in Python?\n",
        "\n",
        "\"\"\"\n",
        "from sklearn.model_selection import train_test_split\n",
        "X_train, X_test, y_train, y_test = train_test_split(X, y, test_size=0.2)\n",
        "\"\"\""
      ],
      "metadata": {
        "colab": {
          "base_uri": "https://localhost:8080/",
          "height": 36
        },
        "id": "1DZTInw2hD5p",
        "outputId": "03627d7c-cf54-45b2-984d-9c6a9d2453c0"
      },
      "execution_count": 9,
      "outputs": [
        {
          "output_type": "execute_result",
          "data": {
            "text/plain": [
              "'\\nfrom sklearn.model_selection import train_test_split\\nX_train, X_test, y_train, y_test = train_test_split(X, y, test_size=0.2)\\n'"
            ],
            "application/vnd.google.colaboratory.intrinsic+json": {
              "type": "string"
            }
          },
          "metadata": {},
          "execution_count": 9
        }
      ]
    },
    {
      "cell_type": "markdown",
      "source": [
        "25. Explain data encoding?\n",
        "\n",
        "- Data encoding transforms categorical variables into a format suitable for ML models (numerical).\n",
        "Common encodings:\n",
        "\n",
        "- Label Encoding: Converts labels to integers.\n",
        "\n",
        "- One-Hot Encoding: Converts categories to binary columns.\n",
        "\n"
      ],
      "metadata": {
        "id": "_ehUEa4Whixa"
      }
    }
  ]
}